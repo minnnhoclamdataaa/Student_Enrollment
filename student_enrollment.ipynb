{
    "metadata": {
        "kernelspec": {
            "name": "SQL",
            "display_name": "SQL",
            "language": "sql"
        },
        "language_info": {
            "name": "sql",
            "version": ""
        }
    },
    "nbformat_minor": 2,
    "nbformat": 4,
    "cells": [
        {
            "cell_type": "code",
            "source": [
                "-- gộp thông tin học sinh và thông tin phụ huynh học sinh\n",
                "SELECT s.Student_ID,s.First_Middle_Name,s.Last_Name,d.Father_name,d.Mother_name,d.Parents_phonenumbers\n",
                "FROM Student as s\n",
                "JOIN Student_Details as d\n",
                "ON s.Student_ID = d.Student_ID\n",
                ""
            ],
            "metadata": {
                "azdata_cell_guid": "dd2e8d47-cbbb-4ea3-9bb0-721f8e20ea77",
                "language": "sql"
            },
            "outputs": [
                {
                    "output_type": "display_data",
                    "data": {
                        "text/html": "(3 rows affected)"
                    },
                    "metadata": {}
                },
                {
                    "output_type": "display_data",
                    "data": {
                        "text/html": "Total execution time: 00:00:00.015"
                    },
                    "metadata": {}
                },
                {
                    "output_type": "execute_result",
                    "metadata": {},
                    "execution_count": 1,
                    "data": {
                        "application/vnd.dataresource+json": {
                            "schema": {
                                "fields": [
                                    {
                                        "name": "Student_ID"
                                    },
                                    {
                                        "name": "First_Middle_Name"
                                    },
                                    {
                                        "name": "Last_Name"
                                    },
                                    {
                                        "name": "Father_name"
                                    },
                                    {
                                        "name": "Mother_name"
                                    },
                                    {
                                        "name": "Parents_phonenumbers"
                                    }
                                ]
                            },
                            "data": [
                                {
                                    "0": "1",
                                    "1": "Nguyen Thanh",
                                    "2": "Minh",
                                    "3": "Nguyen",
                                    "4": "Thanh",
                                    "5": "123"
                                },
                                {
                                    "0": "2",
                                    "1": "Nguyen Thanh ",
                                    "2": "Huy",
                                    "3": "Nguyen",
                                    "4": "Huy",
                                    "5": "456"
                                },
                                {
                                    "0": "3",
                                    "1": "Nguyen Thanh",
                                    "2": "Nam",
                                    "3": "Ho",
                                    "4": "An",
                                    "5": "789"
                                }
                            ]
                        },
                        "text/html": [
                            "<table>",
                            "<tr><th>Student_ID</th><th>First_Middle_Name</th><th>Last_Name</th><th>Father_name</th><th>Mother_name</th><th>Parents_phonenumbers</th></tr>",
                            "<tr><td>1</td><td>Nguyen Thanh</td><td>Minh</td><td>Nguyen</td><td>Thanh</td><td>123</td></tr>",
                            "<tr><td>2</td><td>Nguyen Thanh </td><td>Huy</td><td>Nguyen</td><td>Huy</td><td>456</td></tr>",
                            "<tr><td>3</td><td>Nguyen Thanh</td><td>Nam</td><td>Ho</td><td>An</td><td>789</td></tr>",
                            "</table>"
                        ]
                    }
                }
            ],
            "execution_count": 1
        },
        {
            "cell_type": "code",
            "source": [
                "-- gộp thông tin học sinh và thông tin trả học phí\n",
                "SELECT s.Student_ID,s.First_Middle_Name,s.Last_Name,d.Name_Payables,d.Payment_Date_and_time\n",
                "FROM Student as s\n",
                "JOIN Student_Payments as d\n",
                "ON s.Student_ID = d.Student_ID"
            ],
            "metadata": {
                "azdata_cell_guid": "301a5ae6-30b3-43e7-8d2c-d9d45e6f3f2a",
                "language": "sql",
                "tags": [
                    "hide_input"
                ]
            },
            "outputs": [
                {
                    "output_type": "display_data",
                    "data": {
                        "text/html": "(3 rows affected)"
                    },
                    "metadata": {}
                },
                {
                    "output_type": "display_data",
                    "data": {
                        "text/html": "Total execution time: 00:00:00.034"
                    },
                    "metadata": {}
                },
                {
                    "output_type": "execute_result",
                    "metadata": {},
                    "execution_count": 16,
                    "data": {
                        "application/vnd.dataresource+json": {
                            "schema": {
                                "fields": [
                                    {
                                        "name": "Student_ID"
                                    },
                                    {
                                        "name": "First_Middle_Name"
                                    },
                                    {
                                        "name": "Last_Name"
                                    },
                                    {
                                        "name": "Name_Payables"
                                    },
                                    {
                                        "name": "Payment_Date_and_time"
                                    }
                                ]
                            },
                            "data": [
                                {
                                    "0": "1",
                                    "1": "Nguyen Thanh",
                                    "2": "Minh",
                                    "3": "Clothes",
                                    "4": "2022-04-07 07:30:00.000"
                                },
                                {
                                    "0": "2",
                                    "1": "Nguyen Thanh ",
                                    "2": "Huy",
                                    "3": "Course Fee",
                                    "4": "2021-11-23 08:39:00.000"
                                },
                                {
                                    "0": "3",
                                    "1": "Nguyen Thanh",
                                    "2": "Nam",
                                    "3": "Parking Fee",
                                    "4": "2021-02-03 09:23:00.000"
                                }
                            ]
                        },
                        "text/html": [
                            "<table>",
                            "<tr><th>Student_ID</th><th>First_Middle_Name</th><th>Last_Name</th><th>Name_Payables</th><th>Payment_Date_and_time</th></tr>",
                            "<tr><td>1</td><td>Nguyen Thanh</td><td>Minh</td><td>Clothes</td><td>2022-04-07 07:30:00.000</td></tr>",
                            "<tr><td>2</td><td>Nguyen Thanh </td><td>Huy</td><td>Course Fee</td><td>2021-11-23 08:39:00.000</td></tr>",
                            "<tr><td>3</td><td>Nguyen Thanh</td><td>Nam</td><td>Parking Fee</td><td>2021-02-03 09:23:00.000</td></tr>",
                            "</table>"
                        ]
                    }
                }
            ],
            "execution_count": 16
        },
        {
            "cell_type": "code",
            "source": [
                "-- gộp thông tin học sinh và điểm thi lẫn điểm ưu tiên\n",
                "SELECT s.Student_ID,s.First_Middle_Name,s.Last_Name,d.Entrance_Exam_Score,d.Priority_Point\n",
                "FROM Student as s\n",
                "JOIN Student_Requirements as d\n",
                "ON s.Student_ID = d.Student_ID"
            ],
            "metadata": {
                "language": "sql",
                "azdata_cell_guid": "bb6def4d-c89a-44b4-aa7c-1f6420ee219c",
                "tags": [
                    "hide_input"
                ]
            },
            "outputs": [
                {
                    "output_type": "display_data",
                    "data": {
                        "text/html": "(3 rows affected)"
                    },
                    "metadata": {}
                },
                {
                    "output_type": "display_data",
                    "data": {
                        "text/html": "Total execution time: 00:00:00.024"
                    },
                    "metadata": {}
                },
                {
                    "output_type": "execute_result",
                    "metadata": {},
                    "execution_count": 13,
                    "data": {
                        "application/vnd.dataresource+json": {
                            "schema": {
                                "fields": [
                                    {
                                        "name": "Student_ID"
                                    },
                                    {
                                        "name": "First_Middle_Name"
                                    },
                                    {
                                        "name": "Last_Name"
                                    },
                                    {
                                        "name": "Entrance_Exam_Score"
                                    },
                                    {
                                        "name": "Priority_Point"
                                    }
                                ]
                            },
                            "data": [
                                {
                                    "0": "1",
                                    "1": "Nguyen Thanh",
                                    "2": "Minh",
                                    "3": "90",
                                    "4": "NULL"
                                },
                                {
                                    "0": "2",
                                    "1": "Nguyen Thanh ",
                                    "2": "Huy",
                                    "3": "85",
                                    "4": "10"
                                },
                                {
                                    "0": "3",
                                    "1": "Nguyen Thanh",
                                    "2": "Nam",
                                    "3": "95",
                                    "4": "5"
                                }
                            ]
                        },
                        "text/html": [
                            "<table>",
                            "<tr><th>Student_ID</th><th>First_Middle_Name</th><th>Last_Name</th><th>Entrance_Exam_Score</th><th>Priority_Point</th></tr>",
                            "<tr><td>1</td><td>Nguyen Thanh</td><td>Minh</td><td>90</td><td>NULL</td></tr>",
                            "<tr><td>2</td><td>Nguyen Thanh </td><td>Huy</td><td>85</td><td>10</td></tr>",
                            "<tr><td>3</td><td>Nguyen Thanh</td><td>Nam</td><td>95</td><td>5</td></tr>",
                            "</table>"
                        ]
                    }
                }
            ],
            "execution_count": 13
        },
        {
            "cell_type": "code",
            "source": [
                "-- thêm giá trị vào bảng\n",
                "insert into Student(Student_ID,First_Middle_Name,Last_Name,Age,Gender,Address,Date_Of_Birth,Student_Phone_Numbers)\n",
                "VALUES(5,'Nguyen Van','B',22,'Male','Da Nang','03-12-2000',12321321)"
            ],
            "metadata": {
                "language": "sql",
                "azdata_cell_guid": "de1f37b7-c7df-46db-af0a-e7aa257c1ab2"
            },
            "outputs": [
                {
                    "output_type": "display_data",
                    "data": {
                        "text/html": "(1 row affected)"
                    },
                    "metadata": {}
                },
                {
                    "output_type": "display_data",
                    "data": {
                        "text/html": "Total execution time: 00:00:00.040"
                    },
                    "metadata": {}
                }
            ],
            "execution_count": 19
        },
        {
            "cell_type": "code",
            "source": [
                "select* from Student"
            ],
            "metadata": {
                "language": "sql",
                "azdata_cell_guid": "0d4778c2-d5d9-46d1-8047-1a6c3d5ea446"
            },
            "outputs": [
                {
                    "output_type": "display_data",
                    "data": {
                        "text/html": "(5 rows affected)"
                    },
                    "metadata": {}
                },
                {
                    "output_type": "display_data",
                    "data": {
                        "text/html": "Total execution time: 00:00:00.015"
                    },
                    "metadata": {}
                },
                {
                    "output_type": "execute_result",
                    "metadata": {},
                    "execution_count": 20,
                    "data": {
                        "application/vnd.dataresource+json": {
                            "schema": {
                                "fields": [
                                    {
                                        "name": "Student_ID"
                                    },
                                    {
                                        "name": "First_Middle_Name"
                                    },
                                    {
                                        "name": "Last_Name"
                                    },
                                    {
                                        "name": "Age"
                                    },
                                    {
                                        "name": "Gender"
                                    },
                                    {
                                        "name": "Address"
                                    },
                                    {
                                        "name": "Date_Of_Birth"
                                    },
                                    {
                                        "name": "Student_Phone_Numbers"
                                    }
                                ]
                            },
                            "data": [
                                {
                                    "0": "1",
                                    "1": "Nguyen Thanh",
                                    "2": "Minh",
                                    "3": "20",
                                    "4": "Male",
                                    "5": "HCM",
                                    "6": "2002-12-03",
                                    "7": "12345678"
                                },
                                {
                                    "0": "2",
                                    "1": "Nguyen Thanh ",
                                    "2": "Huy",
                                    "3": "21",
                                    "4": "Male",
                                    "5": "HUE",
                                    "6": "2002-05-22",
                                    "7": "123456789"
                                },
                                {
                                    "0": "3",
                                    "1": "Nguyen Thanh",
                                    "2": "Nam",
                                    "3": "22",
                                    "4": "Male ",
                                    "5": "HUE",
                                    "6": "2002-11-23",
                                    "7": "12345678910"
                                },
                                {
                                    "0": "4",
                                    "1": "Nguyen Van",
                                    "2": "A",
                                    "3": "23",
                                    "4": "Femeal",
                                    "5": "HCM",
                                    "6": "2001-01-01",
                                    "7": "2132121213"
                                },
                                {
                                    "0": "5",
                                    "1": "Nguyen Van",
                                    "2": "B",
                                    "3": "22",
                                    "4": "Male",
                                    "5": "Da Nang",
                                    "6": "2000-03-12",
                                    "7": "12321321"
                                }
                            ]
                        },
                        "text/html": [
                            "<table>",
                            "<tr><th>Student_ID</th><th>First_Middle_Name</th><th>Last_Name</th><th>Age</th><th>Gender</th><th>Address</th><th>Date_Of_Birth</th><th>Student_Phone_Numbers</th></tr>",
                            "<tr><td>1</td><td>Nguyen Thanh</td><td>Minh</td><td>20</td><td>Male</td><td>HCM</td><td>2002-12-03</td><td>12345678</td></tr>",
                            "<tr><td>2</td><td>Nguyen Thanh </td><td>Huy</td><td>21</td><td>Male</td><td>HUE</td><td>2002-05-22</td><td>123456789</td></tr>",
                            "<tr><td>3</td><td>Nguyen Thanh</td><td>Nam</td><td>22</td><td>Male </td><td>HUE</td><td>2002-11-23</td><td>12345678910</td></tr>",
                            "<tr><td>4</td><td>Nguyen Van</td><td>A</td><td>23</td><td>Femeal</td><td>HCM</td><td>2001-01-01</td><td>2132121213</td></tr>",
                            "<tr><td>5</td><td>Nguyen Van</td><td>B</td><td>22</td><td>Male</td><td>Da Nang</td><td>2000-03-12</td><td>12321321</td></tr>",
                            "</table>"
                        ]
                    }
                }
            ],
            "execution_count": 20
        }
    ]
}