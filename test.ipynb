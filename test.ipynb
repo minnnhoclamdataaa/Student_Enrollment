{
    "metadata": {
        "kernelspec": {
            "name": "SQL",
            "display_name": "SQL",
            "language": "sql"
        },
        "language_info": {
            "name": "sql",
            "version": ""
        }
    },
    "nbformat_minor": 2,
    "nbformat": 4,
    "cells": [
        {
            "cell_type": "code",
            "source": [
                "select * from Student"
            ],
            "metadata": {
                "azdata_cell_guid": "9d9081ee-c706-424f-91fe-d2ca615ac3c9",
                "language": "sql"
            },
            "outputs": [
                {
                    "output_type": "display_data",
                    "data": {
                        "text/html": "(4 rows affected)"
                    },
                    "metadata": {}
                },
                {
                    "output_type": "display_data",
                    "data": {
                        "text/html": "Total execution time: 00:00:00.014"
                    },
                    "metadata": {}
                },
                {
                    "output_type": "execute_result",
                    "metadata": {},
                    "execution_count": 1,
                    "data": {
                        "application/vnd.dataresource+json": {
                            "schema": {
                                "fields": [
                                    {
                                        "name": "Student_ID"
                                    },
                                    {
                                        "name": "First_Middle_Name"
                                    },
                                    {
                                        "name": "Last_Name"
                                    },
                                    {
                                        "name": "Age"
                                    },
                                    {
                                        "name": "Gender"
                                    },
                                    {
                                        "name": "Address"
                                    },
                                    {
                                        "name": "Date_Of_Birth"
                                    },
                                    {
                                        "name": "Student_Phone_Numbers"
                                    }
                                ]
                            },
                            "data": [
                                {
                                    "0": "1",
                                    "1": "Nguyen Thanh",
                                    "2": "Minh",
                                    "3": "20",
                                    "4": "Male",
                                    "5": "HCM",
                                    "6": "2002-12-03",
                                    "7": "12345678"
                                },
                                {
                                    "0": "2",
                                    "1": "Nguyen Thanh ",
                                    "2": "Huy",
                                    "3": "21",
                                    "4": "Male",
                                    "5": "HUE",
                                    "6": "2002-05-22",
                                    "7": "123456789"
                                },
                                {
                                    "0": "3",
                                    "1": "Nguyen Thanh",
                                    "2": "Nam",
                                    "3": "22",
                                    "4": "Male ",
                                    "5": "HUE",
                                    "6": "2002-11-23",
                                    "7": "12345678910"
                                },
                                {
                                    "0": "4",
                                    "1": "Nguyen Van",
                                    "2": "A",
                                    "3": "23",
                                    "4": "Femeal",
                                    "5": "HCM",
                                    "6": "2001-01-01",
                                    "7": "2132121213"
                                }
                            ]
                        },
                        "text/html": [
                            "<table>",
                            "<tr><th>Student_ID</th><th>First_Middle_Name</th><th>Last_Name</th><th>Age</th><th>Gender</th><th>Address</th><th>Date_Of_Birth</th><th>Student_Phone_Numbers</th></tr>",
                            "<tr><td>1</td><td>Nguyen Thanh</td><td>Minh</td><td>20</td><td>Male</td><td>HCM</td><td>2002-12-03</td><td>12345678</td></tr>",
                            "<tr><td>2</td><td>Nguyen Thanh </td><td>Huy</td><td>21</td><td>Male</td><td>HUE</td><td>2002-05-22</td><td>123456789</td></tr>",
                            "<tr><td>3</td><td>Nguyen Thanh</td><td>Nam</td><td>22</td><td>Male </td><td>HUE</td><td>2002-11-23</td><td>12345678910</td></tr>",
                            "<tr><td>4</td><td>Nguyen Van</td><td>A</td><td>23</td><td>Femeal</td><td>HCM</td><td>2001-01-01</td><td>2132121213</td></tr>",
                            "</table>"
                        ]
                    }
                }
            ],
            "execution_count": 1
        },
        {
            "cell_type": "code",
            "source": [
                "SELECT s.Student_ID,s.First_Middle_Name,s.Last_Name,d.Father_name,d.Mother_name,d.Parents_phonenumbers\n",
                "FROM Student as s\n",
                "JOIN Student_Details as d\n",
                "ON s.Student_ID = d.Student_ID\n",
                "\n",
                ""
            ],
            "metadata": {
                "language": "sql",
                "azdata_cell_guid": "0cccd049-3554-4993-b3ba-815d79c5cdad"
            },
            "outputs": [
                {
                    "output_type": "error",
                    "evalue": "Msg 156, Level 15, State 1, Line 5\nIncorrect syntax near the keyword 'into'.",
                    "ename": "",
                    "traceback": []
                },
                {
                    "output_type": "display_data",
                    "data": {
                        "text/html": "Total execution time: 00:00:00.020"
                    },
                    "metadata": {}
                }
            ],
            "execution_count": 22
        },
        {
            "cell_type": "code",
            "source": [
                "select count(Student.Student_ID)\n",
                "from Student\n",
                "group by Student_ID"
            ],
            "metadata": {
                "azdata_cell_guid": "d461df2a-38fa-4015-aeb8-54b3a5b642ef",
                "language": "sql"
            },
            "outputs": [
                {
                    "output_type": "display_data",
                    "data": {
                        "text/html": "(4 rows affected)"
                    },
                    "metadata": {}
                },
                {
                    "output_type": "display_data",
                    "data": {
                        "text/html": "Total execution time: 00:00:00.012"
                    },
                    "metadata": {}
                },
                {
                    "output_type": "execute_result",
                    "metadata": {},
                    "execution_count": 18,
                    "data": {
                        "application/vnd.dataresource+json": {
                            "schema": {
                                "fields": [
                                    {
                                        "name": "(No column name)"
                                    }
                                ]
                            },
                            "data": [
                                {
                                    "0": "1"
                                },
                                {
                                    "0": "1"
                                },
                                {
                                    "0": "1"
                                },
                                {
                                    "0": "1"
                                }
                            ]
                        },
                        "text/html": [
                            "<table>",
                            "<tr><th>(No column name)</th></tr>",
                            "<tr><td>1</td></tr>",
                            "<tr><td>1</td></tr>",
                            "<tr><td>1</td></tr>",
                            "<tr><td>1</td></tr>",
                            "</table>"
                        ]
                    }
                }
            ],
            "execution_count": 18
        },
        {
            "cell_type": "code",
            "source": [
                ""
            ],
            "metadata": {
                "language": "sql",
                "azdata_cell_guid": "40df2f52-2ddd-4924-afbc-f3e33bad4869"
            },
            "outputs": [],
            "execution_count": null
        }
    ]
}